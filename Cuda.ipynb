{
  "cells": [
    {
      "cell_type": "code",
      "execution_count": null,
      "metadata": {
        "colab": {
          "base_uri": "https://localhost:8080/"
        },
        "id": "yzn1nIlvfxWM",
        "outputId": "d236e652-af6f-4630-cc40-45cc574421b4"
      },
      "outputs": [
        {
          "name": "stdout",
          "output_type": "stream",
          "text": [
            "Collecting git+https://github.com/afnan47/cuda.git\n",
            "  Cloning https://github.com/afnan47/cuda.git to /tmp/pip-req-build-9_h0mraw\n",
            "  Running command git clone --filter=blob:none --quiet https://github.com/afnan47/cuda.git /tmp/pip-req-build-9_h0mraw\n",
            "  Resolved https://github.com/afnan47/cuda.git to commit aac710a35f52bb78ab34d2e52517237941399eff\n",
            "  Preparing metadata (setup.py) ... \u001b[?25l\u001b[?25hdone\n",
            "Building wheels for collected packages: NVCCPlugin\n",
            "  Building wheel for NVCCPlugin (setup.py) ... \u001b[?25l\u001b[?25hdone\n",
            "  Created wheel for NVCCPlugin: filename=NVCCPlugin-0.0.2-py3-none-any.whl size=4289 sha256=9fa6267da8cc6d6bb942a256a0c5f8707fd3b0c33abb3cbd72980c429d2683d8\n",
            "  Stored in directory: /tmp/pip-ephem-wheel-cache-q4si76cz/wheels/aa/f3/44/e10c1d226ec561d971fcd4b0463f6bff08602afa928a3e7bc7\n",
            "Successfully built NVCCPlugin\n",
            "Installing collected packages: NVCCPlugin\n",
            "Successfully installed NVCCPlugin-0.0.2\n",
            "created output directory at /content/src\n",
            "Out bin /content/result.out\n"
          ]
        }
      ],
      "source": [
        "!pip install git+https://github.com/afnan47/cuda.git\n",
        "%load_ext nvcc_plugin"
      ]
    },
    {
      "cell_type": "code",
      "execution_count": null,
      "metadata": {
        "colab": {
          "base_uri": "https://localhost:8080/"
        },
        "id": "JFe1ouzBf5iU",
        "outputId": "14f310d3-02e0-437b-82d0-6f14ebb698e4"
      },
      "outputs": [
        {
          "name": "stdout",
          "output_type": "stream",
          "text": [
            "Writing hpc41.cu\n"
          ]
        }
      ],
      "source": [
        "%%writefile hpc41.cu\n",
        "\n",
        "#include<iostream>\n",
        "#include<cuda_runtime.h>\n",
        "\n",
        "__global__ void addvect(int *A,int *B,int *C,int n)\n",
        "{\n",
        "    int i= blockIdx.x *  blockDim.x + threadIdx.x;\n",
        "\n",
        "    if(i<n)\n",
        "    {\n",
        "        C[i]=A[i]+B[i];\n",
        "    }\n",
        "}\n",
        "\n",
        "int main()\n",
        "{\n",
        "    int n=100;\n",
        "    int *A,*B,*C;\n",
        "    int size=n*sizeof(int);\n",
        "\n",
        "    cudaMallocHost(&A,size);\n",
        "    cudaMallocHost(&B,size);\n",
        "    cudaMallocHost(&C,size);\n",
        "\n",
        "    for(int i=0;i<n;i++)\n",
        "    {\n",
        "        A[i]=i;\n",
        "        B[i]=i*2;\n",
        "    }\n",
        "\n",
        "    int *da,*db,*dc;\n",
        "\n",
        "    cudaMalloc(&da,size);\n",
        "    cudaMalloc(&db,size);\n",
        "    cudaMalloc(&dc,size);\n",
        "\n",
        "    cudaMemcpy(da,A,size,cudaMemcpyHostToDevice);\n",
        "    cudaMemcpy(db,B,size,cudaMemcpyHostToDevice);\n",
        "\n",
        "    int blocksize=256;\n",
        "    int numblock=(n+blocksize-1)/blocksize;\n",
        "\n",
        "    addvect<<<numblock,blocksize>>>(da,db,dc,n);\n",
        "\n",
        "    cudaMemcpy(C,dc,size,cudaMemcpyDeviceToHost);\n",
        "\n",
        "    for(int i=0;i<10;i++)\n",
        "    {\n",
        "        printf(\"%d + %d = %d \\n\",A[i],B[i],C[i]);\n",
        "    }\n",
        "\n",
        "    cudaFree(da);\n",
        "    cudaFree(db);\n",
        "    cudaFree(dc);\n",
        "\n",
        "    cudaFreeHost(A);\n",
        "    cudaFreeHost(B);\n",
        "    cudaFreeHost(C);\n",
        "\n",
        "    return 0;\n",
        "}\n",
        "\n"
      ]
    },
    {
      "cell_type": "code",
      "execution_count": null,
      "metadata": {
        "colab": {
          "base_uri": "https://localhost:8080/"
        },
        "id": "0eSKSmFqgMAj",
        "outputId": "f092c18c-9ffe-4409-adc6-31b0656ce0df"
      },
      "outputs": [
        {
          "name": "stdout",
          "output_type": "stream",
          "text": [
            "0 + 0 = 0 \n",
            "1 + 2 = 3 \n",
            "2 + 4 = 6 \n",
            "3 + 6 = 9 \n",
            "4 + 8 = 12 \n",
            "5 + 10 = 15 \n",
            "6 + 12 = 18 \n",
            "7 + 14 = 21 \n",
            "8 + 16 = 24 \n",
            "9 + 18 = 27 \n"
          ]
        }
      ],
      "source": [
        "!nvcc -o hpc41 hpc41.cu -Xcompiler -fopenmp\n",
        "!./hpc41"
      ]
    },
    {
      "cell_type": "code",
      "execution_count": null,
      "metadata": {
        "colab": {
          "base_uri": "https://localhost:8080/"
        },
        "id": "JDBLqXH9gS2a",
        "outputId": "70a5cd6c-6f24-4eb3-e32e-6e2915d05344"
      },
      "outputs": [
        {
          "name": "stdout",
          "output_type": "stream",
          "text": [
            "Overwriting hpc42.cu\n"
          ]
        }
      ],
      "source": [
        "#include<stdio.h>\n",
        "#include<cuda.h>\n",
        "#define row1 2 /* Number of rows of first matrix */\n",
        "#define col1 3 /* Number of columns of first matrix */\n",
        "#define row2 3 /* Number of rows of second matrix */\n",
        "#define col2 2 /* Number of columns of second matrix */\n",
        "\n",
        "_global_ void matproduct(int *l,int *m, int *n)\n",
        "{\n",
        "    int x=blockIdx.x;\n",
        "    int y=blockIdx.y;\n",
        "    int k;\n",
        "  \n",
        "n[col2*y+x]=0;\n",
        "for(k=0;k<col1;k++)\n",
        "   {\n",
        "    n[col2*y+x]=n[col2*y+x]+l[col1*y+k]*m[col2*k+x];\n",
        "   }\n",
        "}\n",
        "\n",
        "int main()\n",
        "{\n",
        "    int a[row1][col1];\n",
        "    int b[row2][col2];\n",
        "    int c[row1][col2];\n",
        "    int *d,*e,*f;\n",
        "    int i,j;\n",
        "\n",
        "    printf(\"\\n Enter elements of first matrix of size 2*3\\n\");\n",
        "    for(i=0;i<row1;i++)\n",
        "    {\n",
        "        for(j=0;j<col1;j++)\n",
        "            {\n",
        "                scanf(\"%d\",&a[i][j]);\n",
        "            }\n",
        "    }\n",
        "    printf(\"\\n Enter elements of second matrix of size 3*2\\n\");\n",
        "        for(i=0;i<row2;i++)\n",
        "        {\n",
        "            for(j=0;j<col2;j++)\n",
        "                {\n",
        "                    scanf(\"%d\",&b[i][j]);\n",
        "                }\n",
        "        }\n",
        "\n",
        "    cudaMalloc((void **)&d,row1*col1*sizeof(int));\n",
        "    cudaMalloc((void **)&e,row2*col2*sizeof(int));\n",
        "    cudaMalloc((void **)&f,row1*col2*sizeof(int));\n",
        "\n",
        " cudaMemcpy(d,a,row1*col1*sizeof(int),cudaMemcpyHostToDevice);\n",
        " cudaMemcpy(e,b,row2*col2*sizeof(int),cudaMemcpyHostToDevice);\n",
        "\n",
        "dim3 grid(col2,row1);\n",
        "/* Here we are defining two dimensional Grid(collection of blocks) structure. Syntax is dim3 grid(no. of columns,no. of rows) */\n",
        "\n",
        "    matproduct<<<grid,1>>>(d,e,f);\n",
        "\n",
        " cudaMemcpy(c,f,row1*col2*sizeof(int),cudaMemcpyDeviceToHost);\n",
        "    printf(\"\\nProduct of two matrices:\\n \");\n",
        "    for(i=0;i<row1;i++)\n",
        "    {\n",
        "        for(j=0;j<col2;j++)\n",
        "        {\n",
        "              printf(\"%d\\t\",c[i][j]);\n",
        "        }\n",
        "        printf(\"\\n\");\n",
        "    }\n",
        "\n",
        "    cudaFree(d);\n",
        "    cudaFree(e);\n",
        "    cudaFree(f);\n",
        "\n",
        "    return 0;\n",
        "}"
      ]
    },
    {
      "cell_type": "code",
      "execution_count": null,
      "metadata": {
        "colab": {
          "base_uri": "https://localhost:8080/"
        },
        "id": "zE_SXFUyeETY",
        "outputId": "c490066b-e3e0-4fbe-e566-f895d1c78d6e"
      },
      "outputs": [
        {
          "name": "stdout",
          "output_type": "stream",
          "text": [
            "Matrix multiplication result:\n",
            "32 32 32 32 32 32 32 32 32 32 32 32 32 32 32 32 \n",
            "32 32 32 32 32 32 32 32 32 32 32 32 32 32 32 32 \n",
            "32 32 32 32 32 32 32 32 32 32 32 32 32 32 32 32 \n",
            "32 32 32 32 32 32 32 32 32 32 32 32 32 32 32 32 \n",
            "32 32 32 32 32 32 32 32 32 32 32 32 32 32 32 32 \n",
            "32 32 32 32 32 32 32 32 32 32 32 32 32 32 32 32 \n",
            "32 32 32 32 32 32 32 32 32 32 32 32 32 32 32 32 \n",
            "32 32 32 32 32 32 32 32 32 32 32 32 32 32 32 32 \n",
            "32 32 32 32 32 32 32 32 32 32 32 32 32 32 32 32 \n",
            "32 32 32 32 32 32 32 32 32 32 32 32 32 32 32 32 \n",
            "32 32 32 32 32 32 32 32 32 32 32 32 32 32 32 32 \n",
            "32 32 32 32 32 32 32 32 32 32 32 32 32 32 32 32 \n",
            "32 32 32 32 32 32 32 32 32 32 32 32 32 32 32 32 \n",
            "32 32 32 32 32 32 32 32 32 32 32 32 32 32 32 32 \n",
            "32 32 32 32 32 32 32 32 32 32 32 32 32 32 32 32 \n",
            "32 32 32 32 32 32 32 32 32 32 32 32 32 32 32 32 \n"
          ]
        }
      ],
      "source": [
        "!nvcc -o hpc42 hpc42.cu -Xcompiler -fopenmp\n",
        "!./hpc42"
      ]
    },
    {
      "cell_type": "code",
      "execution_count": null,
      "metadata": {
        "id": "MPhfRrsdeTPI"
      },
      "outputs": [],
      "source": []
    }
  ],
  "metadata": {
    "accelerator": "GPU",
    "colab": {
      "gpuType": "T4",
      "provenance": []
    },
    "kernelspec": {
      "display_name": "Python 3",
      "name": "python3"
    },
    "language_info": {
      "name": "python"
    }
  },
  "nbformat": 4,
  "nbformat_minor": 0
}
